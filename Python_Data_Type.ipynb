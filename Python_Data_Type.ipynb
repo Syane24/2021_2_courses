{
  "nbformat": 4,
  "nbformat_minor": 0,
  "metadata": {
    "colab": {
      "name": "Python Data Type",
      "provenance": [],
      "authorship_tag": "ABX9TyNXJYHzFcMEhDk0Ke/xRw8G",
      "include_colab_link": true
    },
    "kernelspec": {
      "name": "python3",
      "display_name": "Python 3"
    },
    "language_info": {
      "name": "python"
    }
  },
  "cells": [
    {
      "cell_type": "markdown",
      "metadata": {
        "id": "view-in-github",
        "colab_type": "text"
      },
      "source": [
        "<a href=\"https://colab.research.google.com/github/Syane24/2021_2_courses/blob/main/Python_Data_Type.ipynb\" target=\"_parent\"><img src=\"https://colab.research.google.com/assets/colab-badge.svg\" alt=\"Open In Colab\"/></a>"
      ]
    },
    {
      "cell_type": "markdown",
      "metadata": {
        "id": "S439CMNRHvLI"
      },
      "source": [
        "1. Numerics Data Type"
      ]
    },
    {
      "cell_type": "markdown",
      "metadata": {
        "id": "jvw6xVgqH3Ad"
      },
      "source": [
        "Arithmetic Operators"
      ]
    },
    {
      "cell_type": "code",
      "metadata": {
        "colab": {
          "base_uri": "https://localhost:8080/"
        },
        "id": "BnGuXUH1H7fi",
        "outputId": "06606b56-3f58-4570-ac1d-9622f84b6b2b"
      },
      "source": [
        "a= 22/4\n",
        "a"
      ],
      "execution_count": 1,
      "outputs": [
        {
          "output_type": "execute_result",
          "data": {
            "text/plain": [
              "5.5"
            ]
          },
          "metadata": {},
          "execution_count": 1
        }
      ]
    },
    {
      "cell_type": "code",
      "metadata": {
        "colab": {
          "base_uri": "https://localhost:8080/"
        },
        "id": "nHALAwrMH1AI",
        "outputId": "40cf6c73-4b64-4edd-9e8e-3d147ba79090"
      },
      "source": [
        "b= 22//4\n",
        "b"
      ],
      "execution_count": 2,
      "outputs": [
        {
          "output_type": "execute_result",
          "data": {
            "text/plain": [
              "5"
            ]
          },
          "metadata": {},
          "execution_count": 2
        }
      ]
    },
    {
      "cell_type": "code",
      "metadata": {
        "colab": {
          "base_uri": "https://localhost:8080/"
        },
        "id": "EJnmMwbsITrf",
        "outputId": "87d696ec-e9e4-4f6b-aa09-5cc161e9eeb6"
      },
      "source": [
        "c= 22 % 4\n",
        "c"
      ],
      "execution_count": 3,
      "outputs": [
        {
          "output_type": "execute_result",
          "data": {
            "text/plain": [
              "2"
            ]
          },
          "metadata": {},
          "execution_count": 3
        }
      ]
    },
    {
      "cell_type": "markdown",
      "metadata": {
        "id": "Nr7QSZmyVc03"
      },
      "source": [
        "Logical Operators"
      ]
    },
    {
      "cell_type": "code",
      "metadata": {
        "colab": {
          "base_uri": "https://localhost:8080/"
        },
        "id": "eCTAcXw0Vd1p",
        "outputId": "3ccbf773-c99b-4cf2-8a80-25de5b50acb7"
      },
      "source": [
        "x = 7\n",
        "print(x > 5 and x < 9)"
      ],
      "execution_count": 4,
      "outputs": [
        {
          "output_type": "stream",
          "name": "stdout",
          "text": [
            "True\n"
          ]
        }
      ]
    },
    {
      "cell_type": "code",
      "metadata": {
        "colab": {
          "base_uri": "https://localhost:8080/"
        },
        "id": "9Co9_X0FVu5b",
        "outputId": "c64f8672-cfe4-46b1-87f3-13a85baf711a"
      },
      "source": [
        "x = 7\n",
        "print(x > 5 and x > 9)"
      ],
      "execution_count": 6,
      "outputs": [
        {
          "output_type": "stream",
          "name": "stdout",
          "text": [
            "False\n"
          ]
        }
      ]
    },
    {
      "cell_type": "code",
      "metadata": {
        "colab": {
          "base_uri": "https://localhost:8080/"
        },
        "id": "rOM29XYKV5hn",
        "outputId": "8eeedfa6-a65e-4655-b814-c71c2d2e5fa8"
      },
      "source": [
        "x = 7\n",
        "print(x > 5 or x > 9)"
      ],
      "execution_count": 5,
      "outputs": [
        {
          "output_type": "stream",
          "name": "stdout",
          "text": [
            "True\n"
          ]
        }
      ]
    },
    {
      "cell_type": "markdown",
      "metadata": {
        "id": "Q336RSD7Zde6"
      },
      "source": [
        "Built- in Functions"
      ]
    },
    {
      "cell_type": "code",
      "metadata": {
        "colab": {
          "base_uri": "https://localhost:8080/",
          "height": 35
        },
        "id": "GYXHUKfNZ87G",
        "outputId": "54cd65ca-b9f6-4b48-a2ee-be273dd2486e"
      },
      "source": [
        "bin(5)"
      ],
      "execution_count": 6,
      "outputs": [
        {
          "output_type": "execute_result",
          "data": {
            "application/vnd.google.colaboratory.intrinsic+json": {
              "type": "string"
            },
            "text/plain": [
              "'0b101'"
            ]
          },
          "metadata": {},
          "execution_count": 6
        }
      ]
    },
    {
      "cell_type": "code",
      "metadata": {
        "colab": {
          "base_uri": "https://localhost:8080/"
        },
        "id": "NzxFvkxsaLe5",
        "outputId": "b52f57bc-2d25-4f01-b0c5-e818e1ce262e"
      },
      "source": [
        "int(0b101)"
      ],
      "execution_count": 7,
      "outputs": [
        {
          "output_type": "execute_result",
          "data": {
            "text/plain": [
              "5"
            ]
          },
          "metadata": {},
          "execution_count": 7
        }
      ]
    },
    {
      "cell_type": "markdown",
      "metadata": {
        "id": "j7BxVtRyaVo6"
      },
      "source": [
        "2_String Data Type"
      ]
    },
    {
      "cell_type": "code",
      "metadata": {
        "colab": {
          "base_uri": "https://localhost:8080/",
          "height": 35
        },
        "id": "vLeOUKR2ajoj",
        "outputId": "8ae55efe-e271-4f93-cb22-519abce9653e"
      },
      "source": [
        "str3 = 'allows embedded \"double\" quotes'\n",
        "str3"
      ],
      "execution_count": 8,
      "outputs": [
        {
          "output_type": "execute_result",
          "data": {
            "application/vnd.google.colaboratory.intrinsic+json": {
              "type": "string"
            },
            "text/plain": [
              "'allows embedded \"double\" quotes'"
            ]
          },
          "metadata": {},
          "execution_count": 8
        }
      ]
    },
    {
      "cell_type": "markdown",
      "metadata": {
        "id": "-VLN2iCfarZP"
      },
      "source": [
        "Operation on strings"
      ]
    },
    {
      "cell_type": "code",
      "metadata": {
        "colab": {
          "base_uri": "https://localhost:8080/"
        },
        "id": "csEl9SAEavDk",
        "outputId": "e4f21243-5d73-4dd5-8649-4d3f14f1e131"
      },
      "source": [
        "var1 = 'Hello Universe!'\n",
        "\n",
        "print(\"var1[1]: \", var1[1])"
      ],
      "execution_count": 11,
      "outputs": [
        {
          "output_type": "stream",
          "name": "stdout",
          "text": [
            "var1[1]:  e\n"
          ]
        }
      ]
    },
    {
      "cell_type": "markdown",
      "metadata": {
        "id": "RZKh9COcdTVV"
      },
      "source": [
        "Slice Operation"
      ]
    },
    {
      "cell_type": "code",
      "metadata": {
        "colab": {
          "base_uri": "https://localhost:8080/"
        },
        "id": "Az9Kju_OdWNq",
        "outputId": "e40184f6-5aba-4a90-aa71-bc85d06315bd"
      },
      "source": [
        "b = \"Hello, Philippines!\"\n",
        "#print(b[2:5])\n",
        "#print(b[:6])\n",
        "#print(b[2:])\n",
        "print(b[-5:-2])"
      ],
      "execution_count": 10,
      "outputs": [
        {
          "output_type": "stream",
          "name": "stdout",
          "text": [
            "ine\n"
          ]
        }
      ]
    },
    {
      "cell_type": "markdown",
      "metadata": {
        "id": "5igLYzdzkcZV"
      },
      "source": [
        "Python string method"
      ]
    },
    {
      "cell_type": "code",
      "metadata": {
        "colab": {
          "base_uri": "https://localhost:8080/"
        },
        "id": "AZNBEzbbkjJv",
        "outputId": "39c18c97-bdb3-4b10-f4c7-148a3379817a"
      },
      "source": [
        "txt = \"hello,My name is Shaine Peregrino.\"\n",
        "\n",
        "x = txt.capitalize()\n",
        "\n",
        "print (x)"
      ],
      "execution_count": 14,
      "outputs": [
        {
          "output_type": "stream",
          "name": "stdout",
          "text": [
            "Hello,my name is shaine peregrino.\n"
          ]
        }
      ]
    },
    {
      "cell_type": "markdown",
      "metadata": {
        "id": "oXCDkES9ky8A"
      },
      "source": [
        "Python String join() Method"
      ]
    },
    {
      "cell_type": "code",
      "metadata": {
        "colab": {
          "base_uri": "https://localhost:8080/"
        },
        "id": "0M_hrD0gk6I6",
        "outputId": "241f21f2-02ec-4d60-fbbe-c2ddcc2c9197"
      },
      "source": [
        "myTuple = (\"Shaine\", \"Syane\", \"Mae\")\n",
        "\n",
        "x = \"#\".join(myTuple)\n",
        "\n",
        "print(x)"
      ],
      "execution_count": 29,
      "outputs": [
        {
          "output_type": "stream",
          "name": "stdout",
          "text": [
            "Shaine#Syane#Mae\n"
          ]
        }
      ]
    },
    {
      "cell_type": "code",
      "metadata": {
        "colab": {
          "base_uri": "https://localhost:8080/"
        },
        "id": "RWa39WMuk_K6",
        "outputId": "7e83f97a-42c9-43df-8625-6d062da1dd38"
      },
      "source": [
        "txt = \"apple\"\n",
        "\n",
        "x = txt.ljust(20)\n",
        "\n",
        "print(x, \"is my favorite fruit.\")"
      ],
      "execution_count": 28,
      "outputs": [
        {
          "output_type": "stream",
          "name": "stdout",
          "text": [
            "apple                is my favorite fruit.\n"
          ]
        }
      ]
    },
    {
      "cell_type": "code",
      "metadata": {
        "colab": {
          "base_uri": "https://localhost:8080/"
        },
        "id": "9uGjHNIIlC6m",
        "outputId": "5bf7b940-1d26-49f7-e700-83ea4109eb7c"
      },
      "source": [
        "txt = \"     apple     \"\n",
        "\n",
        "x = txt.lstrip()\n",
        "\n",
        "print(\"of all fruits\", x, \"is my favorite\")"
      ],
      "execution_count": 27,
      "outputs": [
        {
          "output_type": "stream",
          "name": "stdout",
          "text": [
            "of all fruits apple      is my favorite\n"
          ]
        }
      ]
    },
    {
      "cell_type": "markdown",
      "metadata": {
        "id": "166nCcBHlHPa"
      },
      "source": [
        "3. List Data Type"
      ]
    },
    {
      "cell_type": "code",
      "metadata": {
        "colab": {
          "base_uri": "https://localhost:8080/"
        },
        "id": "0Q2J1KpzlMDI",
        "outputId": "803fcf09-6f32-440c-dbdd-bf689f244d2f"
      },
      "source": [
        "list1 = [21, 33, 14, 12, 32, 98]\n",
        "\n",
        "list1[1]"
      ],
      "execution_count": 18,
      "outputs": [
        {
          "output_type": "execute_result",
          "data": {
            "text/plain": [
              "33"
            ]
          },
          "metadata": {},
          "execution_count": 18
        }
      ]
    },
    {
      "cell_type": "markdown",
      "metadata": {
        "id": "7FXtEhYAlYec"
      },
      "source": [
        "Slice operation"
      ]
    },
    {
      "cell_type": "code",
      "metadata": {
        "colab": {
          "base_uri": "https://localhost:8080/"
        },
        "id": "NaFOtgFlleSB",
        "outputId": "a3051f5c-2da3-4c65-fcc3-f76e78e6aed9"
      },
      "source": [
        "list1[1:3]"
      ],
      "execution_count": 19,
      "outputs": [
        {
          "output_type": "execute_result",
          "data": {
            "text/plain": [
              "[33, 14]"
            ]
          },
          "metadata": {},
          "execution_count": 19
        }
      ]
    },
    {
      "cell_type": "markdown",
      "metadata": {
        "id": "2Si5XO7lljLM"
      },
      "source": [
        "List built-in functions"
      ]
    },
    {
      "cell_type": "code",
      "metadata": {
        "colab": {
          "base_uri": "https://localhost:8080/"
        },
        "id": "vbExCW91lshR",
        "outputId": "fe2ca4cf-cf42-4c2b-dd41-c718b1af0592"
      },
      "source": [
        "len(list1)\n"
      ],
      "execution_count": 20,
      "outputs": [
        {
          "output_type": "execute_result",
          "data": {
            "text/plain": [
              "6"
            ]
          },
          "metadata": {},
          "execution_count": 20
        }
      ]
    },
    {
      "cell_type": "code",
      "metadata": {
        "colab": {
          "base_uri": "https://localhost:8080/"
        },
        "id": "PwJrpgbClziQ",
        "outputId": "e171f28e-f017-4008-f6fe-6cd605c93680"
      },
      "source": [
        "max(list1)"
      ],
      "execution_count": 21,
      "outputs": [
        {
          "output_type": "execute_result",
          "data": {
            "text/plain": [
              "98"
            ]
          },
          "metadata": {},
          "execution_count": 21
        }
      ]
    },
    {
      "cell_type": "code",
      "metadata": {
        "colab": {
          "base_uri": "https://localhost:8080/"
        },
        "id": "zN7MXeZml5BG",
        "outputId": "cb210f29-e4ce-435e-f82d-fd822e3df790"
      },
      "source": [
        "min(list1)"
      ],
      "execution_count": 22,
      "outputs": [
        {
          "output_type": "execute_result",
          "data": {
            "text/plain": [
              "12"
            ]
          },
          "metadata": {},
          "execution_count": 22
        }
      ]
    },
    {
      "cell_type": "markdown",
      "metadata": {
        "id": "Cwj7oE3Sl6Tl"
      },
      "source": [
        "4_dict data type"
      ]
    },
    {
      "cell_type": "code",
      "metadata": {
        "colab": {
          "base_uri": "https://localhost:8080/"
        },
        "id": "4ukXXugUmF3B",
        "outputId": "45ade7b8-d30f-4bc8-a21a-4dfb3d1e18d4"
      },
      "source": [
        "thisdict = {\n",
        "    \"Name\": 'Shaine', \n",
        "    \"Age\": 17, \n",
        "    \"Country\": 'Philippines'\n",
        "    }\n",
        "print(thisdict)"
      ],
      "execution_count": 26,
      "outputs": [
        {
          "output_type": "stream",
          "name": "stdout",
          "text": [
            "{'Name': 'Shaine', 'Age': 17, 'Country': 'Philippines'}\n"
          ]
        }
      ]
    },
    {
      "cell_type": "code",
      "metadata": {
        "colab": {
          "base_uri": "https://localhost:8080/"
        },
        "id": "KY3yxBBCmaXa",
        "outputId": "49500e08-42b9-4a22-ac9f-92a7234db79b"
      },
      "source": [
        "dict = {'Name': 'Shaine', 'Age': 17, 'Country': 'Philippines'}\n",
        "print(\"dict['Country']: \", dict['Country'])"
      ],
      "execution_count": 25,
      "outputs": [
        {
          "output_type": "stream",
          "name": "stdout",
          "text": [
            "dict['Country']:  Philippines\n"
          ]
        }
      ]
    }
  ]
}